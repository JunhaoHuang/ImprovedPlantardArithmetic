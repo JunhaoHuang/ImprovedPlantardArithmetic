{
 "cells": [
  {
   "cell_type": "markdown",
   "metadata": {},
   "source": [
    "## Plantard arithmetic\n",
    "Input: $A,B, P, R, n$ with $0 \\leq A,B \\leq P$ and $R = P^{−1} \\bmod 2^{2n}$\n",
    "\n",
    "Output: $C$ with $0 \\leq C < P$ and $C = AB(−2^{−2n}) \\bmod P$\n",
    "\n",
    "$C ← [([[ABR]_{2n}]^n + 1)P]^n$\n",
    "\n",
    "if $C=P$ return 0\n",
    "\n",
    "else return $C$"
   ]
  },
  {
   "cell_type": "code",
   "execution_count": 2,
   "metadata": {
    "tags": []
   },
   "outputs": [],
   "source": [
    "import math\n",
    "import random\n",
    "def EX_GCD(a,b,arr): #扩展欧几里得\n",
    "    if b == 0:\n",
    "        arr[0] = 1\n",
    "        arr[1] = 0\n",
    "        return a\n",
    "    g = EX_GCD(b, a % b, arr)\n",
    "    t = arr[0]\n",
    "    arr[0] = arr[1]\n",
    "    arr[1] = t - int(a / b) * arr[1]\n",
    "    return g\n",
    "def ModReverse(a,n): #ax=1(mod n) 求a模n的乘法逆x\n",
    "    arr = [0,1,]\n",
    "    gcd = EX_GCD(a,n,arr)\n",
    "    if gcd == 1:\n",
    "        return (arr[0] % n + n) % n\n",
    "    else:\n",
    "        return -1"
   ]
  },
  {
   "cell_type": "markdown",
   "metadata": {},
   "source": [
    "# Constants for Plantard arithmetic"
   ]
  },
  {
   "cell_type": "code",
   "execution_count": 21,
   "metadata": {},
   "outputs": [
    {
     "name": "stdout",
     "output_type": "stream",
     "text": [
      "w^-1 mod m 7297\n",
      "p 7681 0x1e01\n",
      "p^-1 2340676097 0x8b83e201\n",
      "p^-1 mont 57857 0xe201\n",
      "Mont_Const 2^n mod p 4088 0xff8\n",
      "PLANT_CONST -2^2n mod p 2112 0x840\n",
      "2^n mod p 4088 0xff8\n",
      "-2^2n*p^-1 mod R 559168 0x88840\n",
      "PLANT_CONST2 5564 0x15bc\n",
      "from_plant_cont 1180962236 0x46640dbc\n",
      "5043\n"
     ]
    }
   ],
   "source": [
    "# NTTRU Parameters\n",
    "m=7681\n",
    "n=16\n",
    "alpha=2\n",
    "w=20\n",
    "\n",
    "m2=m**2 # m^2\n",
    "alpha2=2**alpha # 2^(\\alpha)\n",
    "alpha4=alpha2**2 # 2^(2\\alpha)\n",
    "R=2**(2*n)\n",
    "r=2**n\n",
    "minv=ModReverse(m,R) # m^-1 mod R\n",
    "minv_mont=ModReverse(m,r)\n",
    "winv=ModReverse(w,m)\n",
    "print(\"w^-1 mod m\",winv)\n",
    "# minv1=ModReverse(-m,r)\n",
    "PLANT_CONST=(-R)%m # Like Mont, Plant_const = -(2^2n) mod m\n",
    "Mont_Const=(r)%m\n",
    "pm=(PLANT_CONST*minv)%R\n",
    "PLANT_CONST2=(PLANT_CONST**2)%m #Use to calculate a*PLANT_CONST%m=Plant_Mul(a,PLANT_CONST2), in NTT precomputation.\n",
    "from_plant_cont=(PLANT_CONST2*minv)%R\n",
    "print(\"p\",m, hex(m))\n",
    "print(\"p^-1\",minv, hex(minv))\n",
    "print(\"p^-1 mont\",minv_mont, hex(minv_mont))\n",
    "# print(\"-p^-1\",minv1, hex(minv))\n",
    "print(\"Mont_Const 2^n mod p\",Mont_Const,hex(Mont_Const))\n",
    "print(\"PLANT_CONST -2^2n mod p\",PLANT_CONST,hex(PLANT_CONST))\n",
    "print(\"2^n mod p\",Mont_Const,hex(Mont_Const))\n",
    "print(\"-2^2n*p^-1 mod R\",pm,hex(pm))\n",
    "print(\"PLANT_CONST2\",PLANT_CONST2,hex(PLANT_CONST2))\n",
    "print(\"from_plant_cont\",from_plant_cont,hex(from_plant_cont))\n",
    "print(ModReverse(2868,m))"
   ]
  },
  {
   "cell_type": "code",
   "execution_count": 4,
   "metadata": {},
   "outputs": [
    {
     "name": "stdout",
     "output_type": "stream",
     "text": [
      "p^-1 mod 2^16 7679 0x1dff\n",
      "65535\n",
      "4088\n",
      "5569\n"
     ]
    }
   ],
   "source": [
    "# Montgomery things.\n",
    "Mont_minv=ModReverse(-m,r) #-q^-1\n",
    "\n",
    "print(\"p^-1 mod 2^16\",Mont_minv, hex(Mont_minv))\n",
    "print(m*Mont_minv%r)\n",
    "\n",
    "print(r%m)\n",
    "print(r*r%m)\n",
    "# Barrett_const=log(m)-1\n",
    "\n"
   ]
  },
  {
   "cell_type": "markdown",
   "metadata": {},
   "source": [
    "# Modular Multiplication;\n",
    "Input: $a,b\\in [-2^{\\alpha}m,2^{\\alpha}m]$\n",
    "Output: $ab(-2^{-2n}) \\bmod m$"
   ]
  },
  {
   "cell_type": "code",
   "execution_count": 5,
   "metadata": {},
   "outputs": [],
   "source": [
    "def Plant_Mul(a,b):\n",
    "\tc=(((((a*b*minv)%R)//r)+alpha2)*m//r)\n",
    "\treturn c"
   ]
  },
  {
   "cell_type": "markdown",
   "metadata": {},
   "source": [
    "# Modular Reduction\n",
    "Input: $a\\in [-2^{2\\alpha}m^2,2^{2\\alpha}m^2]$; This range is much bigger than Montgomery reduction which is: $2^{n-1}*p$;\n",
    "6.5 times bigger than Montgomery reduction in Kyber. Maybe bigger in Dilithium. $2^{2*8}*m^2$compared to $2^{31}*m$; 255 times bigger.\n",
    "\n",
    "Output: $a(-2^{-2n}) \\bmod m$"
   ]
  },
  {
   "cell_type": "code",
   "execution_count": 6,
   "metadata": {},
   "outputs": [],
   "source": [
    "def Plant_Red(a):\n",
    "\tc=(((((a*minv)%R)//r)+alpha2)*m//r)\n",
    "\treturn c"
   ]
  },
  {
   "cell_type": "markdown",
   "metadata": {},
   "source": [
    "# Modular Reduction with normal input and normal output.\n",
    "Input: $a\\in [-2^{2\\alpha}m,2^{2\\alpha}m]$; \n",
    "\n",
    "Output: $a \\bmod m$\n",
    "\n",
    "This is achieved by first multiply a term:$pm=(PLANT\\_CONST*minv)\\bmod R$"
   ]
  },
  {
   "cell_type": "code",
   "execution_count": 7,
   "metadata": {},
   "outputs": [],
   "source": [
    "def Plant_Red_normal(a):\n",
    "\tc=(((((a*pm)%R)//r)+alpha2)*m//r)\n",
    "\treturn c"
   ]
  },
  {
   "cell_type": "markdown",
   "metadata": {},
   "source": [
    "# Test if the Plant_mul algorithm is right."
   ]
  },
  {
   "cell_type": "code",
   "execution_count": 8,
   "metadata": {},
   "outputs": [
    {
     "name": "stdout",
     "output_type": "stream",
     "text": [
      "ROUND 100000 TEST FINISHED.\n"
     ]
    }
   ],
   "source": [
    "def generateMulTest(num):\n",
    "    for i in range(num):\n",
    "        [a,b]=random.sample(range(-alpha2*m,alpha2*m),2)\n",
    "        c1=(a*b)%m\n",
    "        c2=Plant_Mul(a,b)\n",
    "        c2=(c2*PLANT_CONST)%m #AB\n",
    "        if c1 != c2:\n",
    "            print(\"ERROR: {0} * {1} mod {2} = {3} BUT GET {4} INSTEAD.\" .format(a,b,m,c1,c2))\n",
    "        if (i % 100000)==99999:\n",
    "            print(\"ROUND {0} TEST FINISHED.\".format(i+1))\n",
    "\n",
    "generateMulTest(100000)"
   ]
  },
  {
   "cell_type": "markdown",
   "metadata": {},
   "source": [
    "# Test if Plantard Reduction is right"
   ]
  },
  {
   "cell_type": "code",
   "execution_count": 9,
   "metadata": {},
   "outputs": [],
   "source": [
    "def generateRedTest(num):\n",
    "    \n",
    "    for i in range(num):\n",
    "        [a]=random.sample(range(-alpha4*m2,alpha4*m2),1)\n",
    "        c1=(a)%m\n",
    "        c2=Plant_Red(a)\n",
    "        c2=(c2*PLANT_CONST)%m #AB\n",
    "        if c1 != c2:\n",
    "            print(\"ERROR: {0}(-2^(-2n)) mod {1} = {2} BUT GET {3} INSTEAD.\" .format(a,m,c1,c2))\n",
    "        if (a== alpha4*m2-1):\n",
    "            print(\"ROUND {0} TEST FINISHED.\".format(i+1))\n",
    "        # a=a+1\n",
    "\n",
    "generateRedTest(100000)"
   ]
  },
  {
   "cell_type": "code",
   "execution_count": 10,
   "metadata": {},
   "outputs": [
    {
     "name": "stdout",
     "output_type": "stream",
     "text": [
      "ERROR: -61448 mod 7681 = 0 BUT GET 7681 INSTEAD.\n",
      "ERROR: -122896 mod 7681 = 0 BUT GET 7681 INSTEAD.\n",
      "ERROR: -15362 mod 7681 = 0 BUT GET 7681 INSTEAD.\n",
      "ERROR: -122896 mod 7681 = 0 BUT GET 7681 INSTEAD.\n",
      "ERROR: -15362 mod 7681 = 0 BUT GET 7681 INSTEAD.\n",
      "ERROR: -7681 mod 7681 = 0 BUT GET 7681 INSTEAD.\n"
     ]
    }
   ],
   "source": [
    "def generateRed_normalTest(num):\n",
    "    \n",
    "    for i in range(num):\n",
    "        [a]=random.sample(range(-alpha4*m,alpha4*m),1)\n",
    "        c1=(a)%m\n",
    "        c2=Plant_Red_normal(a)\n",
    "        if c1 != c2:\n",
    "            print(\"ERROR: {0} mod {1} = {2} BUT GET {3} INSTEAD.\" .format(a,m,c1,c2))\n",
    "        if (a== alpha4*m2-1):\n",
    "            print(\"ROUND {0} TEST FINISHED.\".format(i+1))\n",
    "        # a=a+1\n",
    "\n",
    "generateRed_normalTest(100000)"
   ]
  },
  {
   "cell_type": "markdown",
   "metadata": {},
   "source": [
    "# Test NTT butterfly computation."
   ]
  },
  {
   "cell_type": "code",
   "execution_count": 11,
   "metadata": {},
   "outputs": [
    {
     "name": "stdout",
     "output_type": "stream",
     "text": [
      "ERROR: -7681 * 7122 mod 7681 = 0 BUT GET 7681 INSTEAD.\n",
      "ERROR: -30724 * 14466 mod 7681 = 0 BUT GET 7681 INSTEAD.\n",
      "ERROR: -7681 * 29614 mod 7681 = 0 BUT GET 7681 INSTEAD.\n",
      "ROUND 100000 TEST FINISHED.\n"
     ]
    }
   ],
   "source": [
    "# testing NTT mul scheme: a * btp^-1 =ab\n",
    "def Butterfly_Mul(a,twiddle):\n",
    "\tc=(((((a*twiddle)%R)//r)+alpha2)*m//r)\n",
    "\treturn c\n",
    "\n",
    "def generateNTTTest(num):\n",
    "    for i in range(num):\n",
    "        [b]=random.sample(range(-alpha2*m,alpha2*m),1)\n",
    "        [a]=random.sample(range(-2**(n-1),2**(n-1)),1)\n",
    "        w=(((b*PLANT_CONST)%m)*minv)%R # Twiddle factor*PLANT_CONST*minv\n",
    "        # w=Plant_Mul(b,PLANT_CONST2) # b*PLANT_CONST %m\n",
    "        # w=(w*minv)%R\n",
    "        c1=Butterfly_Mul(a,w) #\n",
    "        c2=(a*b)%m #AB\n",
    "        if c1 != c2:\n",
    "            print(\"ERROR: {0} * {1} mod {2} = {3} BUT GET {4} INSTEAD.\" .format(a,b,m,c2,c1))\n",
    "        if (i % 100000)==99999:\n",
    "            print(\"ROUND {0} TEST FINISHED.\".format(i+1))\n",
    "\n",
    "generateNTTTest(100000)\n"
   ]
  },
  {
   "cell_type": "markdown",
   "metadata": {},
   "source": [
    "# Test from Plantard"
   ]
  },
  {
   "cell_type": "code",
   "execution_count": 12,
   "metadata": {},
   "outputs": [
    {
     "name": "stdout",
     "output_type": "stream",
     "text": [
      "ROUND 100000 TEST FINISHED.\n"
     ]
    }
   ],
   "source": [
    "# testing NTT mul scheme: a * btp^-1 =ab\n",
    "\n",
    "def from_plant(a):\n",
    "\tc=(((((a*from_plant_cont)%R)//r)+alpha2)*m//r)\n",
    "\treturn c\n",
    "\n",
    "def generateNTTTest(num):\n",
    "    for i in range(num):\n",
    "        [a]=random.sample(range(-2**(n-1),2**(n-1)),1)\n",
    "        c2=Plant_Mul(a,1)\n",
    "        c1=from_plant(c2)\n",
    "        if (a%m) != c1:\n",
    "            print(\"ERROR: {0} * {1} = {2} BUT GET {3} INSTEAD.\" .format(a,from_plant_cont,a,c1))\n",
    "        if (i % 100000)==99999:\n",
    "            print(\"ROUND {0} TEST FINISHED.\".format(i+1))\n",
    "\n",
    "generateNTTTest(100000)"
   ]
  },
  {
   "cell_type": "markdown",
   "metadata": {},
   "source": [
    "# Test Final reduction to reduce 16-bit integer back to positive integers.\n",
    "input: $a\\in[-2^{n-1},2^{n-1}-1]$\n",
    "output: $c\\in [0,2^n]$?"
   ]
  },
  {
   "cell_type": "code",
   "execution_count": 13,
   "metadata": {},
   "outputs": [],
   "source": [
    "def Plant_Red_Positive(a):\n",
    "\tc=((((((a+10*m)*minv)%R)//r)+alpha2)*m//r)\n",
    "\treturn c"
   ]
  },
  {
   "cell_type": "markdown",
   "metadata": {},
   "source": [
    "# Test if there exists ab, s.t. [[[ab]_2n p']_2n]^n+2^alpha>2^n-1"
   ]
  },
  {
   "cell_type": "code",
   "execution_count": 14,
   "metadata": {},
   "outputs": [],
   "source": [
    "def generateBoundTest():\n",
    "\ta=-R\n",
    "\twhile(a<R):\n",
    "\t\t# [a]=random.sample(range(-R,R),1)\n",
    "\t\tc=(((a*minv)%R)//r)\n",
    "\t\tt=(c>>3) & 1\n",
    "\t\tc=c>>3\n",
    "\t\ti=3\n",
    "\t\twhile(c>0 and t!=0):\n",
    "\t\t\tt=t&(c>>1)\n",
    "\t\t\tc=c>>1\n",
    "\t\t\ti=i+1\n",
    "\t\tif(t==1 and i==15):\n",
    "\t\t\tprint(\"Error: {0}*{1}+alpha2={2}\" .format(hex(a),hex(minv),hex(c)))\n",
    "\t\ta=a+1\n",
    "# generateBoundTest()\n"
   ]
  },
  {
   "cell_type": "code",
   "execution_count": 15,
   "metadata": {},
   "outputs": [],
   "source": [
    "# ab=a*b%m\n",
    "# print(\"AB\",c*PLANT_CONST%m)\n",
    "# print(\"AB\",ab)\n",
    "# print(\"A=AB/B\",(ab*ModReverse(b,m))%m)\n",
    "# print(\"B=AB/A\",(ab*ModReverse(a,m))%m)\n",
    "minus2_ninv=ModReverse(-R,m)\n",
    "# print(\"(-2^-2n) mod p\",hex(minus2_ninv))\n",
    "# print(\"R*R-1\", R*minus2_ninv%m)\n",
    "# print(\"c=AB(-2^-2n) mod p\",c)\n",
    "# test=a*b*minus2_ninv%m\n",
    "# print(\"AB(-2^-2n) mod p\",test)\n",
    "\n",
    "# # test if ((ab mod q)c) mod q== (abc) mod q\n",
    "# print(\"test_c\",test_c%m)\n",
    "# c1=c*PLANT_CONST%m # AB\n",
    "# print(\"AB\",c1)\n",
    "# c1=(((((c1*test_c*minv)%R)//r)+1)*m//r)\n",
    "# product=((a*b%R)*test_c)%R\n",
    "# c2=(((((product*minv)%R)//r)+1)*m//r)\n",
    "# print(\"((ab mod q)c) mod q\",c)\n",
    "# print(\"(abc) mod q\",c2)"
   ]
  },
  {
   "cell_type": "code",
   "execution_count": 16,
   "metadata": {},
   "outputs": [
    {
     "name": "stdout",
     "output_type": "stream",
     "text": [
      "test -6310746624 -0x178265a00 0x565\n",
      "abP^-1 -3528765833019648 -0xc8964d1f90100 0x2e06ff00 0x2e07\n",
      "abpinv/R -821604\n",
      "-0xd1f90100\n",
      "k*P -0x189bfff9 -0x189c 0x565\n",
      "test 3707 0xe7b 0xe7b\n",
      "abP^-1 -3536555603070464 -0xc907a84730e00 0x7b8cf200 0x7b8d\n",
      "abpinv/R -823418.5173805952\n",
      "abpinv//R -823419\n",
      "k*P 0xe7b018d 0xe7b 0xe7b\n"
     ]
    }
   ],
   "source": [
    "# Test if negative inputs A,B work?\n",
    "i=4*(m**2)\n",
    "count=0\n",
    "a=-3328\n",
    "b=453\n",
    "# [a,b]=random.sample(range(-m,m),2)\n",
    "c=((((((a*b*minv)%R)//r)+1)*m//r))%m\n",
    "test=(a*b*minus2_ninv)\n",
    "print(\"test\",test,hex(test),hex(test%m))\n",
    "print(\"abP^-1\",a*b*minv,hex(a*b*minv),hex(a*b*minv%R),hex(((a*b*minv%R)>>16)+1))\n",
    "\n",
    "abpinv=a*b*minv//R+1\n",
    "print(\"abpinv/R\",abpinv)\n",
    "tmp=a*b*minv-abpinv*R\n",
    "print(hex(tmp))\n",
    "\n",
    "k=((tmp)>>16)+1\n",
    "print(\"k*P\",hex(k*m),hex((k*m)>>16),hex(((k*m)>>16)%m))\n",
    "a=-3328\n",
    "b=454\n",
    "# [a,b]=random.sample(range(-m,m),2)\n",
    "c=((((((a*b*minv)%R)//r)+1)*m//r))%m\n",
    "test=(a*b*minus2_ninv)%m\n",
    "print(\"test\",test,hex(test),hex(test%m))\n",
    "print(\"abP^-1\",a*b*minv,hex(a*b*minv),hex(a*b*minv%R),hex(((a*b*minv%R)>>16)+1))\n",
    "abpinv=a*b*minv\n",
    "print(\"abpinv/R\",abpinv/R)\n",
    "print(\"abpinv//R\",abpinv//R)\n",
    "k=((a*b*minv%R)>>16)+1\n",
    "print(\"k*P\",hex(k*m),hex((k*m)>>16),hex(((k*m)>>16)%m))\n"
   ]
  },
  {
   "cell_type": "code",
   "execution_count": 17,
   "metadata": {},
   "outputs": [
    {
     "name": "stdout",
     "output_type": "stream",
     "text": [
      "0x88840\n",
      "true\n"
     ]
    }
   ],
   "source": [
    "# New Reduction to replace Barrett reduction\n",
    "import math\n",
    "const=(PLANT_CONST*minv)%R #R^(-1)*(-2^2n mod P)\n",
    "print(hex(const))\n",
    "def red(c):\n",
    "\td=(((((c*const)%R)//r)+8)*m//r)\n",
    "\tif(d==m):\n",
    "\t\treturn d-m\n",
    "\telse:\n",
    "\t\treturn d\n",
    "\n",
    "k=3\n",
    "n=16\n",
    "c=-2**(n)\n",
    "while(c<2**(n)):\n",
    "\t# [c]=random.sample(range(-2**(n-1),2**(n-1)),1)\n",
    "\tc1=red(c)\n",
    "\tc2=c%m\n",
    "\tif(c1!=c2):\n",
    "\t\tprint(\"false; Expect:{0}, get:{1}\" .format(c2,c1))\n",
    "\t\tbreak\n",
    "\tc=c+1\n",
    "if(c==2**n):\n",
    "\tprint(\"true\")"
   ]
  },
  {
   "cell_type": "markdown",
   "metadata": {},
   "source": [
    "1. double new reduction on Cortex-M4\n",
    "<!-- const=R^(-1)*(-2^(2n) mod p) mod 2^(2n) -->\n",
    "```\n",
    "smlawb d1, const, c, (8<<16)\n",
    "smlawt d2, const, c, (8<<16)\n",
    "smlawb d1, p, d1, 0\n",
    "smlawb d2, p, d2, 0\n",
    "pkhbt c, d1, d2, lsr #16\n",
    "```\n",
    "Compared to the 8-instruction Barrett reduction, we only need 5 instructions. We can replace Barrett reduction in LBC.\n",
    "\n",
    "1. New modular multiplication on NTT "
   ]
  },
  {
   "cell_type": "code",
   "execution_count": 18,
   "metadata": {},
   "outputs": [],
   "source": [
    "# # Test negative modulo 2^2n: input: (-2^n,0)\n",
    "# def twos_comp(val, bits=32):\n",
    "# \t\"\"\"compute the 2's complement of int value val\"\"\"\n",
    "# \tif (val & (1 << (bits - 1))) != 0:\t# if sign bit is set e.g., 8bit: 128-255\n",
    "# \t\tval = val - (1 << bits)\t\t\t# compute negative value\n",
    "# \treturn val\t\t\t\t\t\t\t# return positive value as is\n",
    "\n",
    "# c=-R\n",
    "# while(c<0):\n",
    "# \tprint(\"c=\",bin(c))\n",
    "# \tr=c%r\n",
    "# \tprint(\"c%m=\",bin(r))\n",
    "# \tc=c+1"
   ]
  },
  {
   "cell_type": "markdown",
   "metadata": {},
   "source": [
    "Test for Base mul"
   ]
  },
  {
   "cell_type": "code",
   "execution_count": 19,
   "metadata": {},
   "outputs": [
    {
     "name": "stdout",
     "output_type": "stream",
     "text": [
      "ab1 6245\n",
      "ab2 6245\n"
     ]
    }
   ],
   "source": [
    "#test if (ab mod q+cd mod q)=(ab+cd) mod q\n",
    "[a,b,c,d]=random.sample(range(0,m),4)\n",
    "ab1=(((((a*b*minv)%R)//r)+1)*m//r)\n",
    "cd1=(((((c*d*minv)%R)//r)+1)*m//r)\n",
    "ab1=(ab1+cd1)%m\n",
    "ab2=a*b+c*d\n",
    "ab2=(((((ab2*minv)%R)//r)+1)*m//r)\n",
    "print(\"ab1\",ab1)\n",
    "print(\"ab2\",ab2)"
   ]
  }
 ],
 "metadata": {
  "kernelspec": {
   "display_name": "Python 3.9.5 64-bit",
   "language": "python",
   "name": "python3"
  },
  "language_info": {
   "codemirror_mode": {
    "name": "ipython",
    "version": 3
   },
   "file_extension": ".py",
   "mimetype": "text/x-python",
   "name": "python",
   "nbconvert_exporter": "python",
   "pygments_lexer": "ipython3",
   "version": "3.9.5"
  },
  "metadata": {
   "interpreter": {
    "hash": "5edc29c2ed010d6458d71a83433b383a96a8cbd3efe8531bc90c4b8a5b8bcec9"
   }
  },
  "orig_nbformat": 2,
  "vscode": {
   "interpreter": {
    "hash": "916dbcbb3f70747c44a77c7bcd40155683ae19c65e1c03b4aa3499c5328201f1"
   }
  }
 },
 "nbformat": 4,
 "nbformat_minor": 2
}
